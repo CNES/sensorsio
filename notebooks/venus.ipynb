{
 "cells": [
  {
   "cell_type": "code",
   "execution_count": 1,
   "metadata": {},
   "outputs": [],
   "source": [
    "# Trick to import local code:\n",
    "import sys\n",
    "#sys.path = ['/home/mp/michelj/src/sensorsio/src'] + sys.path\n",
    "sys.path = ['/home/uz/vinascj/srcsensorio/sensorsio/src'] + sys.path"
   ]
  },
  {
   "cell_type": "code",
   "execution_count": 2,
   "metadata": {},
   "outputs": [],
   "source": [
    "import rasterio as rio\n",
    "import numpy as np\n",
    "from matplotlib import pyplot\n",
    "from sensorsio import venus, utils"
   ]
  },
  {
   "cell_type": "markdown",
   "metadata": {},
   "source": [
    "Constructor of ```venus.Venus``` class reads the path to the ***Venus L2A*** product:"
   ]
  },
  {
   "cell_type": "code",
   "execution_count": 3,
   "metadata": {},
   "outputs": [],
   "source": [
    "#dataset = venus.Venus('/datalake/VENUS-L2A/SUDOUE-1/2020/02/08/VENUS-XS_20200208-105747-000_L2A_SUDOUE-1_C_V2-2/')\n",
    "dataset = venus.Venus('/datalake/VENUS-L2A/GERAWH-1/2020/01/02/VENUS-XS_20200102-003542-000_L2A_GERAWH-1_C_V2-2/')\n"
   ]
  },
  {
   "cell_type": "markdown",
   "metadata": {},
   "source": [
    "Printing the returned objects gives basic information on the product:"
   ]
  },
  {
   "cell_type": "code",
   "execution_count": 4,
   "metadata": {},
   "outputs": [
    {
     "name": "stdout",
     "output_type": "stream",
     "text": [
      "VENUS, 2020-01-02 00:00:00, GERAWH-1\n"
     ]
    }
   ],
   "source": [
    "print(dataset)"
   ]
  },
  {
   "cell_type": "markdown",
   "metadata": {},
   "source": [
    "Among the object attributes, one can find information on acquisition date as a ```datetime.datetime``` object, acquisition year, and day of year:"
   ]
  },
  {
   "cell_type": "code",
   "execution_count": 5,
   "metadata": {},
   "outputs": [
    {
     "name": "stdout",
     "output_type": "stream",
     "text": [
      "date: 2020-01-02 00:00:00, year: 2020, day of year: 2\n"
     ]
    }
   ],
   "source": [
    "print(f\"date: {dataset.date}, year: {dataset.year}, day of year: {dataset.day_of_year}\")"
   ]
  },
  {
   "cell_type": "markdown",
   "metadata": {},
   "source": [
    "One can also read the satellite id, the site code-name and the corresponding coordinate reference system:"
   ]
  },
  {
   "cell_type": "code",
   "execution_count": 6,
   "metadata": {},
   "outputs": [
    {
     "name": "stdout",
     "output_type": "stream",
     "text": [
      "Satellite: VENUS, Observed site: dataset.site, CRS: EPSG:32755\n"
     ]
    }
   ],
   "source": [
    "print(f\"Satellite: {dataset.satellite.value}, Observed site: dataset.site, CRS: {dataset.crs}\")"
   ]
  },
  {
   "cell_type": "markdown",
   "metadata": {},
   "source": [
    "Last, the object also contains the geographic bounds expressed in the given CRS."
   ]
  },
  {
   "cell_type": "code",
   "execution_count": 7,
   "metadata": {},
   "outputs": [
    {
     "name": "stdout",
     "output_type": "stream",
     "text": [
      "Product bounds: BoundingBox(left=301645.0, bottom=5920255.0, right=345030.0, top=5965215.0)\n"
     ]
    }
   ],
   "source": [
    "print(f\"Product bounds: {dataset.bounds}\")"
   ]
  },
  {
   "cell_type": "markdown",
   "metadata": {},
   "source": [
    "# Basic reading"
   ]
  },
  {
   "cell_type": "markdown",
   "metadata": {},
   "source": [
    "## Reading to numpy"
   ]
  },
  {
   "cell_type": "markdown",
   "metadata": {},
   "source": [
    "### Selecting bands"
   ]
  },
  {
   "cell_type": "markdown",
   "metadata": {},
   "source": [
    "```venus.Venus.GROUP_5M``` is a convenient variable to select all 5m bands:"
   ]
  },
  {
   "cell_type": "code",
   "execution_count": 8,
   "metadata": {},
   "outputs": [
    {
     "data": {
      "text/plain": [
       "[<Band.B1: 'B1'>,\n",
       " <Band.B2: 'B2'>,\n",
       " <Band.B3: 'B3'>,\n",
       " <Band.B4: 'B4'>,\n",
       " <Band.B5: 'B5'>,\n",
       " <Band.B6: 'B6'>,\n",
       " <Band.B7: 'B7'>,\n",
       " <Band.B8: 'B8'>,\n",
       " <Band.B9: 'B9'>,\n",
       " <Band.B10: 'B10'>,\n",
       " <Band.B11: 'B11'>,\n",
       " <Band.B12: 'B12'>]"
      ]
     },
     "execution_count": 8,
     "metadata": {},
     "output_type": "execute_result"
    }
   ],
   "source": [
    "venus.Venus.GROUP_5M"
   ]
  },
  {
   "cell_type": "markdown",
   "metadata": {},
   "source": [
    "One can of course make her own selection of bands:"
   ]
  },
  {
   "cell_type": "code",
   "execution_count": 9,
   "metadata": {},
   "outputs": [],
   "source": [
    "my_bands = [venus.Venus.B2, venus.Venus.B8]"
   ]
  },
  {
   "cell_type": "markdown",
   "metadata": {},
   "source": [
    "### A first read"
   ]
  },
  {
   "cell_type": "markdown",
   "metadata": {},
   "source": [
    "In the following we will use the ``venus.Venus.GROUP_5M``` to read all 5m bands to a numpy array:"
   ]
  },
  {
   "cell_type": "code",
   "execution_count": 10,
   "metadata": {},
   "outputs": [],
   "source": [
    "bands, masks, xcoords, ycoords, crs = dataset.read_as_numpy(venus.Venus.GROUP_5M)"
   ]
  },
  {
   "cell_type": "markdown",
   "metadata": {},
   "source": [
    "The first returned value is a ```numpy.ndarray``` with shape ```[bands, height, width]``` containing pixels reflectances:"
   ]
  },
  {
   "cell_type": "code",
   "execution_count": 11,
   "metadata": {},
   "outputs": [
    {
     "data": {
      "text/plain": [
       "(12, 4496, 4338)"
      ]
     },
     "execution_count": 11,
     "metadata": {},
     "output_type": "execute_result"
    }
   ],
   "source": [
    "bands.shape"
   ]
  },
  {
   "cell_type": "markdown",
   "metadata": {},
   "source": [
    "The second returned value is a ```numpy.ndarray``` with shape ```[masks, height, width]``` containing masks values (by default, the 4 masks are read):"
   ]
  },
  {
   "cell_type": "code",
   "execution_count": 12,
   "metadata": {},
   "outputs": [
    {
     "data": {
      "text/plain": [
       "(4, 4496, 4338)"
      ]
     },
     "execution_count": 12,
     "metadata": {},
     "output_type": "execute_result"
    }
   ],
   "source": [
    "masks.shape"
   ]
  },
  {
   "cell_type": "markdown",
   "metadata": {},
   "source": [
    "3rd and 4th returned values are the row and col coordinates expressed in the given crs:"
   ]
  },
  {
   "cell_type": "code",
   "execution_count": 13,
   "metadata": {},
   "outputs": [
    {
     "data": {
      "text/plain": [
       "(array([301645., 301655., 301665., ..., 344995., 345005., 345015.]),\n",
       " array([5965215., 5965205., 5965195., ..., 5920285., 5920275., 5920265.]))"
      ]
     },
     "execution_count": 13,
     "metadata": {},
     "output_type": "execute_result"
    }
   ],
   "source": [
    "xcoords, ycoords"
   ]
  },
  {
   "cell_type": "markdown",
   "metadata": {},
   "source": [
    "Last returned value is the crs as a string:"
   ]
  },
  {
   "cell_type": "code",
   "execution_count": 14,
   "metadata": {},
   "outputs": [
    {
     "data": {
      "text/plain": [
       "CRS.from_epsg(32755)"
      ]
     },
     "execution_count": 14,
     "metadata": {},
     "output_type": "execute_result"
    }
   ],
   "source": [
    "crs"
   ]
  },
  {
   "cell_type": "markdown",
   "metadata": {},
   "source": [
    "By default, pixels values are scaled to $[0,1]$, and missing values are set to ```numpy.nan``` (hence the use of ```nanmin``` and ```nanmax``` in the following):"
   ]
  },
  {
   "cell_type": "code",
   "execution_count": 15,
   "metadata": {},
   "outputs": [
    {
     "data": {
      "text/plain": [
       "(array([-11.166, -11.124, -11.105, -11.079, -11.066, -11.066, -11.06 ,\n",
       "        -11.056, -11.053, -11.052, -11.048, -11.042], dtype=float32),\n",
       " array([1.951, 1.592, 1.487, 1.327, 1.264, 1.257, 1.244, 1.218, 1.213,\n",
       "        1.24 , 1.271, 1.262], dtype=float32))"
      ]
     },
     "execution_count": 15,
     "metadata": {},
     "output_type": "execute_result"
    }
   ],
   "source": [
    "np.nanmin(bands, axis=(1,2)), np.nanmax(bands, axis=(1,2))"
   ]
  },
  {
   "cell_type": "markdown",
   "metadata": {},
   "source": [
    "### Displaying the image"
   ]
  },
  {
   "cell_type": "markdown",
   "metadata": {},
   "source": [
    "The ```utils``` module provides a convenient function that will prepare the array for display with ```matplotlib```. The ```bands ``` argument indicates which slice of the first dimension to map to the red, green and blue channels. ```dmin``` and ```dmax``` arguments allows to select the displayed range for each band. "
   ]
  },
  {
   "cell_type": "code",
   "execution_count": 16,
   "metadata": {},
   "outputs": [
    {
     "data": {
      "text/plain": [
       "<matplotlib.image.AxesImage at 0x2b1661a666a0>"
      ]
     },
     "execution_count": 16,
     "metadata": {},
     "output_type": "execute_result"
    },
    {
     "data": {
      "image/png": "[encoded data removed]",
      "text/plain": [
       "<Figure size 432x288 with 1 Axes>"
      ]
     },
     "metadata": {
      "needs_background": "light"
     },
     "output_type": "display_data"
    }
   ],
   "source": [
    "arr_rgb, dmin, dmax = utils.rgb_render(bands, bands=[2,1,0], \n",
    "                                 dmin=np.array([0., 0., 0.]), \n",
    "                                 dmax=np.array([0.2,0.2,0.2]))\n",
    "pyplot.imshow(arr_rgb)"
   ]
  },
  {
   "cell_type": "markdown",
   "metadata": {},
   "source": [
    "## Reading to xarray Dataset"
   ]
  },
  {
   "cell_type": "markdown",
   "metadata": {},
   "source": [
    "The ```xarray``` library provides a nice decoration of ```numpy``` arrays for even more abstraction:"
   ]
  },
  {
   "cell_type": "code",
   "execution_count": 17,
   "metadata": {},
   "outputs": [],
   "source": [
    "xrds = dataset.read_as_xarray(venus.Venus.GROUP_5M)"
   ]
  },
  {
   "cell_type": "code",
   "execution_count": 18,
   "metadata": {},
   "outputs": [
    {
     "name": "stdout",
     "output_type": "stream",
     "text": [
      "<xarray.Dataset>\n",
      "Dimensions:  (t: 1, x: 4338, y: 4496)\n",
      "Coordinates:\n",
      "  * t        (t) datetime64[ns] 2020-01-02\n",
      "  * x        (x) float64 3.016e+05 3.017e+05 3.017e+05 ... 3.45e+05 3.45e+05\n",
      "  * y        (y) float64 5.965e+06 5.965e+06 5.965e+06 ... 5.92e+06 5.92e+06\n",
      "Data variables:\n",
      "    B1       (t, y, x) float32 -10.0 -10.0 -10.0 -10.0 ... -10.0 -10.0 -10.0\n",
      "    SAT      (t, y, x) uint8 0 0 0 0 0 0 0 0 0 0 0 0 ... 0 0 0 0 0 0 0 0 0 0 0 0\n",
      "    CLM      (t, y, x) uint8 0 0 0 0 0 0 0 0 0 0 0 0 ... 0 0 0 0 0 0 0 0 0 0 0 0\n",
      "    EDG      (t, y, x) uint8 1 1 1 1 1 1 1 1 1 1 1 1 ... 1 1 1 1 1 1 1 1 1 1 1 1\n",
      "    MG2      (t, y, x) uint8 0 0 0 0 0 0 0 0 0 0 0 0 ... 1 1 1 1 1 1 1 1 1 1 1 1\n",
      "    B2       (t, y, x) float32 -10.0 -10.0 -10.0 -10.0 ... -10.0 -10.0 -10.0\n",
      "    B3       (t, y, x) float32 -10.0 -10.0 -10.0 -10.0 ... -10.0 -10.0 -10.0\n",
      "    B4       (t, y, x) float32 -10.0 -10.0 -10.0 -10.0 ... -10.0 -10.0 -10.0\n",
      "    B5       (t, y, x) float32 -10.0 -10.0 -10.0 -10.0 ... -10.0 -10.0 -10.0\n",
      "    B6       (t, y, x) float32 -10.0 -10.0 -10.0 -10.0 ... -10.0 -10.0 -10.0\n",
      "    B7       (t, y, x) float32 -10.0 -10.0 -10.0 -10.0 ... -10.0 -10.0 -10.0\n",
      "    B8       (t, y, x) float32 -10.0 -10.0 -10.0 -10.0 ... -10.0 -10.0 -10.0\n",
      "    B9       (t, y, x) float32 -10.0 -10.0 -10.0 -10.0 ... -10.0 -10.0 -10.0\n",
      "    B10      (t, y, x) float32 -10.0 -10.0 -10.0 -10.0 ... -10.0 -10.0 -10.0\n",
      "    B11      (t, y, x) float32 -10.0 -10.0 -10.0 -10.0 ... -10.0 -10.0 -10.0\n",
      "    B12      (t, y, x) float32 -10.0 -10.0 -10.0 -10.0 ... -10.0 -10.0 -10.0\n",
      "Attributes:\n",
      "    site:     GERAWH-1\n",
      "    type:     FRE\n",
      "    crs:      EPSG:32755\n"
     ]
    }
   ],
   "source": [
    "print(xrds)"
   ]
  },
  {
   "cell_type": "markdown",
   "metadata": {},
   "source": [
    "The created datasets contains several variables, with the requested bands and masks:"
   ]
  },
  {
   "cell_type": "code",
   "execution_count": 19,
   "metadata": {},
   "outputs": [
    {
     "data": {
      "text/plain": [
       "Data variables:\n",
       "    B1       (t, y, x) float32 -10.0 -10.0 -10.0 -10.0 ... -10.0 -10.0 -10.0\n",
       "    SAT      (t, y, x) uint8 0 0 0 0 0 0 0 0 0 0 0 0 ... 0 0 0 0 0 0 0 0 0 0 0 0\n",
       "    CLM      (t, y, x) uint8 0 0 0 0 0 0 0 0 0 0 0 0 ... 0 0 0 0 0 0 0 0 0 0 0 0\n",
       "    EDG      (t, y, x) uint8 1 1 1 1 1 1 1 1 1 1 1 1 ... 1 1 1 1 1 1 1 1 1 1 1 1\n",
       "    MG2      (t, y, x) uint8 0 0 0 0 0 0 0 0 0 0 0 0 ... 1 1 1 1 1 1 1 1 1 1 1 1\n",
       "    B2       (t, y, x) float32 -10.0 -10.0 -10.0 -10.0 ... -10.0 -10.0 -10.0\n",
       "    B3       (t, y, x) float32 -10.0 -10.0 -10.0 -10.0 ... -10.0 -10.0 -10.0\n",
       "    B4       (t, y, x) float32 -10.0 -10.0 -10.0 -10.0 ... -10.0 -10.0 -10.0\n",
       "    B5       (t, y, x) float32 -10.0 -10.0 -10.0 -10.0 ... -10.0 -10.0 -10.0\n",
       "    B6       (t, y, x) float32 -10.0 -10.0 -10.0 -10.0 ... -10.0 -10.0 -10.0\n",
       "    B7       (t, y, x) float32 -10.0 -10.0 -10.0 -10.0 ... -10.0 -10.0 -10.0\n",
       "    B8       (t, y, x) float32 -10.0 -10.0 -10.0 -10.0 ... -10.0 -10.0 -10.0\n",
       "    B9       (t, y, x) float32 -10.0 -10.0 -10.0 -10.0 ... -10.0 -10.0 -10.0\n",
       "    B10      (t, y, x) float32 -10.0 -10.0 -10.0 -10.0 ... -10.0 -10.0 -10.0\n",
       "    B11      (t, y, x) float32 -10.0 -10.0 -10.0 -10.0 ... -10.0 -10.0 -10.0\n",
       "    B12      (t, y, x) float32 -10.0 -10.0 -10.0 -10.0 ... -10.0 -10.0 -10.0"
      ]
     },
     "execution_count": 19,
     "metadata": {},
     "output_type": "execute_result"
    }
   ],
   "source": [
    "xrds.data_vars"
   ]
  },
  {
   "cell_type": "markdown",
   "metadata": {},
   "source": [
    "Those variables are indexed with 3 sets of coordinates: x coordinates, y coordinates and time coordinates:"
   ]
  },
  {
   "cell_type": "code",
   "execution_count": 20,
   "metadata": {},
   "outputs": [
    {
     "data": {
      "text/plain": [
       "Coordinates:\n",
       "  * t        (t) datetime64[ns] 2020-01-02\n",
       "  * x        (x) float64 3.016e+05 3.017e+05 3.017e+05 ... 3.45e+05 3.45e+05\n",
       "  * y        (y) float64 5.965e+06 5.965e+06 5.965e+06 ... 5.92e+06 5.92e+06"
      ]
     },
     "execution_count": 20,
     "metadata": {},
     "output_type": "execute_result"
    }
   ],
   "source": [
    "xrds.coords"
   ]
  },
  {
   "cell_type": "markdown",
   "metadata": {},
   "source": [
    "The time coordinate has only a single value (since a dataset represents one acquisition date) but it would be very easy to stack several datasets together along the time dimension."
   ]
  },
  {
   "cell_type": "markdown",
   "metadata": {},
   "source": [
    "It is rather easy to use ```xarray``` to derive new variables:"
   ]
  },
  {
   "cell_type": "code",
   "execution_count": 21,
   "metadata": {},
   "outputs": [
    {
     "name": "stdout",
     "output_type": "stream",
     "text": [
      "<xarray.DataArray (t: 1, y: 4496, x: 4338)>\n",
      "array([[[-0., -0., -0., ..., -0., -0., -0.],\n",
      "        [-0., -0., -0., ..., -0., -0., -0.],\n",
      "        [-0., -0., -0., ..., -0., -0., -0.],\n",
      "        ...,\n",
      "        [-0., -0., -0., ..., -0., -0., -0.],\n",
      "        [-0., -0., -0., ..., -0., -0., -0.],\n",
      "        [-0., -0., -0., ..., -0., -0., -0.]]], dtype=float32)\n",
      "Coordinates:\n",
      "  * t        (t) datetime64[ns] 2020-01-02\n",
      "  * x        (x) float64 3.016e+05 3.017e+05 3.017e+05 ... 3.45e+05 3.45e+05\n",
      "  * y        (y) float64 5.965e+06 5.965e+06 5.965e+06 ... 5.92e+06 5.92e+06\n"
     ]
    }
   ],
   "source": [
    "ndvi = (xrds.B8-xrds.B4)/(1e-6 + xrds.B8 + xrds.B4)\n",
    "print(ndvi)"
   ]
  },
  {
   "cell_type": "markdown",
   "metadata": {},
   "source": [
    "Of course, one can always access the underlying ```numpy``` arrays:"
   ]
  },
  {
   "cell_type": "code",
   "execution_count": 22,
   "metadata": {},
   "outputs": [
    {
     "data": {
      "text/plain": [
       "array([[[-0., -0., -0., ..., -0., -0., -0.],\n",
       "        [-0., -0., -0., ..., -0., -0., -0.],\n",
       "        [-0., -0., -0., ..., -0., -0., -0.],\n",
       "        ...,\n",
       "        [-0., -0., -0., ..., -0., -0., -0.],\n",
       "        [-0., -0., -0., ..., -0., -0., -0.],\n",
       "        [-0., -0., -0., ..., -0., -0., -0.]]], dtype=float32)"
      ]
     },
     "execution_count": 22,
     "metadata": {},
     "output_type": "execute_result"
    }
   ],
   "source": [
    "ndvi.values"
   ]
  },
  {
   "cell_type": "markdown",
   "metadata": {},
   "source": [
    "# Advanced read"
   ]
  },
  {
   "cell_type": "markdown",
   "metadata": {},
   "source": [
    "In this section, examples will be demonstrated with ```read_as_xarray(...)``` but one can achieve similar operations with ```read_as_numpy(...)```."
   ]
  },
  {
   "cell_type": "markdown",
   "metadata": {},
   "source": [
    "## Reading a spatial subset"
   ]
  },
  {
   "cell_type": "markdown",
   "metadata": {},
   "source": [
    "The ```region``` argument allows to read a spatial subset of the data by providing ```(startx, starty, endx, endy)``` integer pixel coordinates tuple. Beware that those coordinates relate to the coordinates in the array after resampling or reprojection, and not input image coordinates."
   ]
  },
  {
   "cell_type": "code",
   "execution_count": 23,
   "metadata": {},
   "outputs": [
    {
     "name": "stdout",
     "output_type": "stream",
     "text": [
      "<xarray.Dataset>\n",
      "Dimensions:  (t: 1, x: 200, y: 200)\n",
      "Coordinates:\n",
      "  * t        (t) datetime64[ns] 2020-01-02\n",
      "  * x        (x) float64 3.116e+05 3.117e+05 3.117e+05 ... 3.136e+05 3.136e+05\n",
      "  * y        (y) float64 5.955e+06 5.955e+06 5.955e+06 ... 5.953e+06 5.953e+06\n",
      "Data variables:\n",
      "    B1       (t, y, x) float32 0.025 0.022 0.029 0.027 ... 0.079 0.083 0.088\n",
      "    SAT      (t, y, x) uint8 0 0 0 0 0 0 0 0 0 0 0 0 ... 0 0 0 0 0 0 0 0 0 0 0 0\n",
      "    CLM      (t, y, x) uint8 0 0 0 0 0 0 0 0 0 0 0 0 ... 0 0 0 0 0 0 0 0 0 0 0 0\n",
      "    EDG      (t, y, x) uint8 0 0 0 0 0 0 0 0 0 0 0 0 ... 0 0 0 0 0 0 0 0 0 0 0 0\n",
      "    MG2      (t, y, x) uint8 0 0 0 0 0 0 0 0 0 0 0 0 ... 0 0 0 0 0 0 0 0 0 0 0 0\n",
      "    B2       (t, y, x) float32 0.041 0.04 0.044 0.043 ... 0.13 0.126 0.121 0.121\n",
      "    B3       (t, y, x) float32 0.046 0.041 0.045 0.048 ... 0.162 0.157 0.158\n",
      "    B4       (t, y, x) float32 0.061 0.057 0.06 0.061 ... 0.226 0.218 0.219\n",
      "    B5       (t, y, x) float32 0.069 0.065 0.07 0.072 ... 0.295 0.286 0.28 0.281\n",
      "    B6       (t, y, x) float32 0.07 0.065 0.071 0.074 ... 0.295 0.287 0.28 0.282\n",
      "    B7       (t, y, x) float32 0.08 0.074 0.081 0.084 ... 0.333 0.326 0.325\n",
      "    B8       (t, y, x) float32 0.098 0.093 0.097 0.099 ... 0.353 0.347 0.348\n",
      "    B9       (t, y, x) float32 0.142 0.138 0.131 0.132 ... 0.372 0.365 0.368\n",
      "    B10      (t, y, x) float32 0.159 0.154 0.147 0.148 ... 0.393 0.385 0.388\n",
      "    B11      (t, y, x) float32 0.192 0.188 0.181 0.181 ... 0.431 0.424 0.428\n",
      "    B12      (t, y, x) float32 0.197 0.195 0.187 0.188 ... 0.427 0.424 0.426\n",
      "Attributes:\n",
      "    site:     GERAWH-1\n",
      "    type:     FRE\n",
      "    crs:      EPSG:32755\n"
     ]
    }
   ],
   "source": [
    "print(dataset.read_as_xarray(venus.Venus.GROUP_5M, \n",
    "                             region=(1000,1000,1200,1200)))"
   ]
  },
  {
   "cell_type": "markdown",
   "metadata": {},
   "source": [
    "The ```region``` argument also accepts a ```rio.coords.BoundingBox``` object representing a geo-referenced bounding-box in the given ```crs``` (default to input image ```crs```):"
   ]
  },
  {
   "cell_type": "code",
   "execution_count": 24,
   "metadata": {},
   "outputs": [],
   "source": [
    "georoi = rio.coords.BoundingBox(399960.0, 4690200.0, 401960.0, 4692200.0) # left, bottom, right, top"
   ]
  },
  {
   "cell_type": "code",
   "execution_count": 25,
   "metadata": {},
   "outputs": [
    {
     "name": "stdout",
     "output_type": "stream",
     "text": [
      "<xarray.Dataset>\n",
      "Dimensions:  (t: 1, x: 0, y: 0)\n",
      "Coordinates:\n",
      "  * t        (t) datetime64[ns] 2020-01-02\n",
      "  * x        (x) float64 \n",
      "  * y        (y) float64 \n",
      "Data variables:\n",
      "    B1       (t, y, x) float32 \n",
      "    SAT      (t, y, x) uint8 \n",
      "    CLM      (t, y, x) uint8 \n",
      "    EDG      (t, y, x) uint8 \n",
      "    MG2      (t, y, x) uint8 \n",
      "    B2       (t, y, x) float32 \n",
      "    B3       (t, y, x) float32 \n",
      "    B4       (t, y, x) float32 \n",
      "    B5       (t, y, x) float32 \n",
      "    B6       (t, y, x) float32 \n",
      "    B7       (t, y, x) float32 \n",
      "    B8       (t, y, x) float32 \n",
      "    B9       (t, y, x) float32 \n",
      "    B10      (t, y, x) float32 \n",
      "    B11      (t, y, x) float32 \n",
      "    B12      (t, y, x) float32 \n",
      "Attributes:\n",
      "    site:     GERAWH-1\n",
      "    type:     FRE\n",
      "    crs:      EPSG:32755\n"
     ]
    }
   ],
   "source": [
    "print(dataset.read_as_xarray(venus.Venus.GROUP_5M,\n",
    "                             region=georoi))"
   ]
  },
  {
   "cell_type": "markdown",
   "metadata": {},
   "source": [
    "## Changing projection and sampling grid"
   ]
  },
  {
   "cell_type": "markdown",
   "metadata": {},
   "source": [
    "The ```crs``` argument allows to resample the data into a different Coordinates Reference System  upon reading:"
   ]
  },
  {
   "cell_type": "code",
   "execution_count": null,
   "metadata": {},
   "outputs": [],
   "source": [
    "print(dataset.read_as_xarray(venus.Venus.GROUP_5M, crs='epsg:2154')) # Lambert93 EPSG code"
   ]
  },
  {
   "cell_type": "markdown",
   "metadata": {},
   "source": [
    "One can also change the image sampling grid by overloading the geographic bounds:"
   ]
  },
  {
   "cell_type": "code",
   "execution_count": null,
   "metadata": {},
   "outputs": [],
   "source": [
    "newbounds = rio.coords.BoundingBox(399965.0, 4690205.0, 401965.0, 4692205.0) # left, bottom, right, top"
   ]
  },
  {
   "cell_type": "code",
   "execution_count": null,
   "metadata": {},
   "outputs": [],
   "source": [
    "print(dataset.read_as_xarray(venus.Venus.GROUP_5M, bounds=newbounds))"
   ]
  },
  {
   "cell_type": "markdown",
   "metadata": {},
   "source": [
    "***Note:*** This is different from using the region keyword which only does a subsetting. The ```bounds``` argument allows to modify the image sampling grid to match the grid of another image for instance."
   ]
  }
 ],
 "metadata": {
  "kernelspec": {
   "display_name": "Pangeo 2020-12",
   "language": "python",
   "name": "pangeo_202012"
  },
  "language_info": {
   "codemirror_mode": {
    "name": "ipython",
    "version": 3
   },
   "file_extension": ".py",
   "mimetype": "text/x-python",
   "name": "python",
   "nbconvert_exporter": "python",
   "pygments_lexer": "ipython3",
   "version": "3.8.6"
  }
 },
 "nbformat": 4,
 "nbformat_minor": 4
}
