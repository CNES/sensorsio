{
 "cells": [
  {
   "cell_type": "code",
   "execution_count": 119,
   "metadata": {},
   "outputs": [],
   "source": [
    "# Trick to import local code:\n",
    "import sys\n",
    "sys.path = ['/home/mp/michelj/src/sensorsio/src'] + sys.path"
   ]
  },
  {
   "cell_type": "code",
   "execution_count": 131,
   "metadata": {},
   "outputs": [
    {
     "data": {
      "text/plain": [
       "<module 'sensorsio.sentinel2' from '/home/mp/michelj/src/sensorsio/src/sensorsio/sentinel2.py'>"
      ]
     },
     "execution_count": 131,
     "metadata": {},
     "output_type": "execute_result"
    }
   ],
   "source": [
    "from sensorsio import sentinel2\n",
    "from importlib import reload\n",
    "from matplotlib import pyplot\n",
    "reload(sentinel2)"
   ]
  },
  {
   "cell_type": "code",
   "execution_count": 132,
   "metadata": {},
   "outputs": [
    {
     "data": {
      "text/plain": [
       "SENTINEL2B, 2019-05-31 00:00:00, T31TDH"
      ]
     },
     "execution_count": 132,
     "metadata": {},
     "output_type": "execute_result"
    }
   ],
   "source": [
    "dataset = sentinel2.Sentinel2('/datalake/S2-L2A-THEIA/31TDH/2019/05/31/SENTINEL2B_20190531-105916-927_L2A_T31TDH_C_V2-2/')\n",
    "dataset"
   ]
  },
  {
   "cell_type": "code",
   "execution_count": 122,
   "metadata": {},
   "outputs": [],
   "source": [
    "psfs = dataset.PSF([sentinel2.Sentinel2.B2,sentinel2.Sentinel2.B3])"
   ]
  },
  {
   "cell_type": "code",
   "execution_count": 65,
   "metadata": {},
   "outputs": [
    {
     "data": {
      "text/plain": [
       "<matplotlib.image.AxesImage at 0x2b0cd08e4940>"
      ]
     },
     "execution_count": 65,
     "metadata": {},
     "output_type": "execute_result"
    },
    {
     "data": {
      "image/png": "[encoded data removed]",
      "text/plain": [
       "<Figure size 432x288 with 1 Axes>"
      ]
     },
     "metadata": {
      "needs_background": "light"
     },
     "output_type": "display_data"
    }
   ],
   "source": [
    "pyplot.imshow(psfs[0,...])"
   ]
  },
  {
   "cell_type": "code",
   "execution_count": 75,
   "metadata": {},
   "outputs": [
    {
     "data": {
      "text/plain": [
       "'/datalake/S2-L2A-THEIA/31TDH/2019/05/31/SENTINEL2B_20190531-105916-927_L2A_T31TDH_C_V2-2//MASKS/SENTINEL2B_20190531-105916-927_L2A_T31TDH_C_V2-2_CLM_R1.tif'"
      ]
     },
     "execution_count": 75,
     "metadata": {},
     "output_type": "execute_result"
    }
   ],
   "source": [
    "dataset.build_mask_path(sentinel2.Sentinel2.CLM)"
   ]
  },
  {
   "cell_type": "code",
   "execution_count": 72,
   "metadata": {},
   "outputs": [],
   "source": [
    "dataset = sentinel2.Sentinel2('/datalake/S2-L2A-THEIA/31TDH/')"
   ]
  },
  {
   "cell_type": "code",
   "execution_count": null,
   "metadata": {},
   "outputs": [],
   "source": []
  },
  {
   "cell_type": "code",
   "execution_count": 83,
   "metadata": {},
   "outputs": [],
   "source": [
    "import os\n",
    "pn = os.path.basename(os.path.normpath('/datalake/S2-L2A-THEIA/31TDH/2019/05/31/SENTINEL2B_20190531-105916-927_L2A_T31TDH_C_V2-2/'))"
   ]
  },
  {
   "cell_type": "code",
   "execution_count": 95,
   "metadata": {},
   "outputs": [],
   "source": [
    "import dateutil\n",
    "d=dateutil.parser.parse(pn[11:19],fuzzy=True)"
   ]
  },
  {
   "cell_type": "code",
   "execution_count": 96,
   "metadata": {},
   "outputs": [
    {
     "data": {
      "text/plain": [
       "2019"
      ]
     },
     "execution_count": 96,
     "metadata": {},
     "output_type": "execute_result"
    }
   ],
   "source": [
    "d.year"
   ]
  },
  {
   "cell_type": "code",
   "execution_count": 99,
   "metadata": {},
   "outputs": [
    {
     "data": {
      "text/plain": [
       "151"
      ]
     },
     "execution_count": 99,
     "metadata": {},
     "output_type": "execute_result"
    }
   ],
   "source": [
    "d.timetuple().tm_yday"
   ]
  },
  {
   "cell_type": "code",
   "execution_count": 124,
   "metadata": {},
   "outputs": [
    {
     "name": "stdout",
     "output_type": "stream",
     "text": [
      "\u001b[0m\u001b[01;34mDATA\u001b[0m/\n",
      "\u001b[01;34mMASKS\u001b[0m/\n",
      "SENTINEL2B_20190531-105916-927_L2A_T31TDH_C_V2-2_ATB_R1.tif\n",
      "SENTINEL2B_20190531-105916-927_L2A_T31TDH_C_V2-2_ATB_R2.tif\n",
      "SENTINEL2B_20190531-105916-927_L2A_T31TDH_C_V2-2_FRE_B11.tif\n",
      "SENTINEL2B_20190531-105916-927_L2A_T31TDH_C_V2-2_FRE_B12.tif\n",
      "SENTINEL2B_20190531-105916-927_L2A_T31TDH_C_V2-2_FRE_B2.tif\n",
      "SENTINEL2B_20190531-105916-927_L2A_T31TDH_C_V2-2_FRE_B3.tif\n",
      "SENTINEL2B_20190531-105916-927_L2A_T31TDH_C_V2-2_FRE_B4.tif\n",
      "SENTINEL2B_20190531-105916-927_L2A_T31TDH_C_V2-2_FRE_B5.tif\n",
      "SENTINEL2B_20190531-105916-927_L2A_T31TDH_C_V2-2_FRE_B6.tif\n",
      "SENTINEL2B_20190531-105916-927_L2A_T31TDH_C_V2-2_FRE_B7.tif\n",
      "SENTINEL2B_20190531-105916-927_L2A_T31TDH_C_V2-2_FRE_B8A.tif\n",
      "SENTINEL2B_20190531-105916-927_L2A_T31TDH_C_V2-2_FRE_B8.tif\n",
      "SENTINEL2B_20190531-105916-927_L2A_T31TDH_C_V2-2_MTD_ALL.xml\n",
      "SENTINEL2B_20190531-105916-927_L2A_T31TDH_C_V2-2_QKL_ALL.jpg\n",
      "SENTINEL2B_20190531-105916-927_L2A_T31TDH_C_V2-2_SRE_B11.tif\n",
      "SENTINEL2B_20190531-105916-927_L2A_T31TDH_C_V2-2_SRE_B12.tif\n",
      "SENTINEL2B_20190531-105916-927_L2A_T31TDH_C_V2-2_SRE_B2.tif\n",
      "SENTINEL2B_20190531-105916-927_L2A_T31TDH_C_V2-2_SRE_B3.tif\n",
      "SENTINEL2B_20190531-105916-927_L2A_T31TDH_C_V2-2_SRE_B4.tif\n",
      "SENTINEL2B_20190531-105916-927_L2A_T31TDH_C_V2-2_SRE_B5.tif\n",
      "SENTINEL2B_20190531-105916-927_L2A_T31TDH_C_V2-2_SRE_B6.tif\n",
      "SENTINEL2B_20190531-105916-927_L2A_T31TDH_C_V2-2_SRE_B7.tif\n",
      "SENTINEL2B_20190531-105916-927_L2A_T31TDH_C_V2-2_SRE_B8A.tif\n",
      "SENTINEL2B_20190531-105916-927_L2A_T31TDH_C_V2-2_SRE_B8.tif\n"
     ]
    }
   ],
   "source": [
    "d='/datalake/S2-L2A-THEIA/31TDH/2019/05/31/SENTINEL2B_20190531-105916-927_L2A_T31TDH_C_V2-2'"
   ]
  },
  {
   "cell_type": "code",
   "execution_count": null,
   "metadata": {},
   "outputs": [],
   "source": [
    "import glob\n",
    "glob.glob(f\"{d}/*FRE_{band.value}.tif\")"
   ]
  }
 ],
 "metadata": {
  "kernelspec": {
   "display_name": "Pangeo 2020-12",
   "language": "python",
   "name": "pangeo_202012"
  },
  "language_info": {
   "codemirror_mode": {
    "name": "ipython",
    "version": 3
   },
   "file_extension": ".py",
   "mimetype": "text/x-python",
   "name": "python",
   "nbconvert_exporter": "python",
   "pygments_lexer": "ipython3",
   "version": "3.8.6"
  }
 },
 "nbformat": 4,
 "nbformat_minor": 4
}
