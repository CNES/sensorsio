{
 "cells": [
  {
   "cell_type": "code",
   "execution_count": 1,
   "metadata": {},
   "outputs": [],
   "source": [
    "# Trick to import local code:\n",
    "import sys\n",
    "sys.path = ['/home/mp/michelj/src/sensorsio/src'] + sys.path"
   ]
  },
  {
   "cell_type": "code",
   "execution_count": 2,
   "metadata": {},
   "outputs": [],
   "source": [
    "import rasterio as rio\n",
    "import numpy as np\n",
    "from matplotlib import pyplot as plt\n",
    "from sensorsio import pleiades, sentinel2, utils"
   ]
  },
  {
   "cell_type": "code",
   "execution_count": 3,
   "metadata": {},
   "outputs": [],
   "source": [
    "# Path to products\n",
    "phr_xs = '/work/scratch/michelj/cesbio/shr/aude/31TDH/2019/02/22/PHR1A_20190222_3863707101_31TDH/PHR1A_MS_20190222_3863707101_31TDH_TOC.tif'\n",
    "s2 = '/datalake/S2-L2A-THEIA/31TDH/2019/02/22/SENTINEL2A_20190222-104908-287_L2A_T31TDH_C_V2-0/'"
   ]
  },
  {
   "cell_type": "markdown",
   "metadata": {},
   "source": [
    "First, create the Sentinel2 dataset:"
   ]
  },
  {
   "cell_type": "code",
   "execution_count": 4,
   "metadata": {},
   "outputs": [],
   "source": [
    "s2_ds = sentinel2.Sentinel2(s2)"
   ]
  },
  {
   "cell_type": "markdown",
   "metadata": {},
   "source": [
    "Then, create the Pléiades dataset:"
   ]
  },
  {
   "cell_type": "code",
   "execution_count": 5,
   "metadata": {},
   "outputs": [],
   "source": [
    "phr_ds = pleiades.Pleiades(phr_xs)"
   ]
  },
  {
   "cell_type": "markdown",
   "metadata": {},
   "source": [
    "Lets Find the common bounding box between the Pléiades and the Sentinel2 image, and align the result on a 10m grid (origin will be a multiple of 10m). For this we will use the ```utils.bb_common``` function:"
   ]
  },
  {
   "cell_type": "code",
   "execution_count": 6,
   "metadata": {},
   "outputs": [
    {
     "data": {
      "text/plain": [
       "(BoundingBox(left=432340.0, bottom=4742060.0, right=453160.0, top=4799800.0),\n",
       " CRS.from_epsg(32631))"
      ]
     },
     "execution_count": 6,
     "metadata": {},
     "output_type": "execute_result"
    }
   ],
   "source": [
    "box, crs = utils.bb_common([s2_ds.bounds, phr_ds.bounds],[s2_ds.crs, phr_ds.crs],snap=10)\n",
    "box, crs"
   ]
  },
  {
   "cell_type": "markdown",
   "metadata": {},
   "source": [
    "Ok, now lets check what relative orbit covers this box:"
   ]
  },
  {
   "cell_type": "code",
   "execution_count": 7,
   "metadata": {},
   "outputs": [
    {
     "data": {
      "text/html": [
       "<div>\n",
       "<style scoped>\n",
       "    .dataframe tbody tr th:only-of-type {\n",
       "        vertical-align: middle;\n",
       "    }\n",
       "\n",
       "    .dataframe tbody tr th {\n",
       "        vertical-align: top;\n",
       "    }\n",
       "\n",
       "    .dataframe thead th {\n",
       "        text-align: right;\n",
       "    }\n",
       "</style>\n",
       "<table border=\"1\" class=\"dataframe\">\n",
       "  <thead>\n",
       "    <tr style=\"text-align: right;\">\n",
       "      <th></th>\n",
       "      <th>tile_id</th>\n",
       "      <th>relative_orbit_number</th>\n",
       "      <th>tile_coverage</th>\n",
       "      <th>tile_and_orbit_coverage</th>\n",
       "    </tr>\n",
       "  </thead>\n",
       "  <tbody>\n",
       "    <tr>\n",
       "      <th>0</th>\n",
       "      <td>31TDH</td>\n",
       "      <td>51</td>\n",
       "      <td>0.998434</td>\n",
       "      <td>0.998434</td>\n",
       "    </tr>\n",
       "    <tr>\n",
       "      <th>1</th>\n",
       "      <td>31TDH</td>\n",
       "      <td>8</td>\n",
       "      <td>0.998434</td>\n",
       "      <td>0.998434</td>\n",
       "    </tr>\n",
       "    <tr>\n",
       "      <th>2</th>\n",
       "      <td>31TDJ</td>\n",
       "      <td>51</td>\n",
       "      <td>0.170428</td>\n",
       "      <td>0.170428</td>\n",
       "    </tr>\n",
       "    <tr>\n",
       "      <th>3</th>\n",
       "      <td>31TDJ</td>\n",
       "      <td>8</td>\n",
       "      <td>0.170428</td>\n",
       "      <td>0.170428</td>\n",
       "    </tr>\n",
       "  </tbody>\n",
       "</table>\n",
       "</div>"
      ],
      "text/plain": [
       "  tile_id  relative_orbit_number  tile_coverage  tile_and_orbit_coverage\n",
       "0   31TDH                     51       0.998434                 0.998434\n",
       "1   31TDH                      8       0.998434                 0.998434\n",
       "2   31TDJ                     51       0.170428                 0.170428\n",
       "3   31TDJ                      8       0.170428                 0.170428"
      ]
     },
     "execution_count": 7,
     "metadata": {},
     "output_type": "execute_result"
    }
   ],
   "source": [
    "sentinel2.find_tile_orbit_pairs(box,crs)"
   ]
  },
  {
   "cell_type": "markdown",
   "metadata": {},
   "source": [
    "Ok, what is the relative orbit of our S2 image ?"
   ]
  },
  {
   "cell_type": "code",
   "execution_count": 8,
   "metadata": {},
   "outputs": [
    {
     "data": {
      "text/plain": [
       "8"
      ]
     },
     "execution_count": 8,
     "metadata": {},
     "output_type": "execute_result"
    }
   ],
   "source": [
    "s2_ds.relative_orbit_number"
   ]
  },
  {
   "cell_type": "markdown",
   "metadata": {},
   "source": [
    "Now we can read Pléiades buffer on this bounding box, and downsample it at 10 meters:"
   ]
  },
  {
   "cell_type": "code",
   "execution_count": null,
   "metadata": {},
   "outputs": [],
   "source": [
    "phr_arr, _, _, _ = phr_ds.read_as_numpy(resolution=10,\n",
    "                                        crs=crs,\n",
    "                                        bounds=box,\n",
    "                                        algorithm=rio.enums.Resampling.cubic)"
   ]
  },
  {
   "cell_type": "markdown",
   "metadata": {},
   "source": [
    "Likewise, we can read Sentinel2 buffer on this bounding box:"
   ]
  },
  {
   "cell_type": "code",
   "execution_count": null,
   "metadata": {},
   "outputs": [],
   "source": [
    "s2_arr, _, _, _, _ = s2_ds.read_as_numpy(sentinel2.Sentinel2.GROUP_10M,\n",
    "                                         resolution=10,\n",
    "                                         crs=crs,\n",
    "                                         bounds=box)"
   ]
  },
  {
   "cell_type": "markdown",
   "metadata": {},
   "source": [
    "We can check that both buffer have compatible shape, and can therefore be used together for computations:"
   ]
  },
  {
   "cell_type": "code",
   "execution_count": null,
   "metadata": {},
   "outputs": [],
   "source": [
    "phr_arr.shape, s2_arr.shape"
   ]
  },
  {
   "cell_type": "markdown",
   "metadata": {},
   "source": [
    "The convenient ```utils.rgb_render``` allows to prepare images for rendering with **matplotlib**:"
   ]
  },
  {
   "cell_type": "code",
   "execution_count": null,
   "metadata": {},
   "outputs": [],
   "source": [
    "dmin = np.array([0., 0., 0.])\n",
    "dmax = np.array([0.2,0.2,0.2])\n",
    "s2_rgb, dmin, dmax = utils.rgb_render(s2_arr, bands=[2,1,0], \n",
    "                                      dmin=dmin, \n",
    "                                      dmax=dmax)\n",
    "phr_rgb, dmin, max = utils.rgb_render(phr_arr, bands=[2,1,0], \n",
    "                                      dmin=dmin, \n",
    "                                      dmax=dmax)"
   ]
  },
  {
   "cell_type": "markdown",
   "metadata": {},
   "source": [
    "We can now display both image side by side and check that they represent the same area:"
   ]
  },
  {
   "cell_type": "code",
   "execution_count": null,
   "metadata": {},
   "outputs": [],
   "source": [
    "fig, axes = plt.subplots(ncols=2, figsize=(5,int(5*phr_rgb.shape[0]/phr_rgb.shape[1])))\n",
    "axes[0].imshow(s2_rgb)\n",
    "axes[0].set_title(str(s2_ds.satellite.value))\n",
    "axes[1].imshow(phr_rgb)\n",
    "axes[1].set_title(str(phr_ds.satellite.value))\n",
    "fig.show()"
   ]
  },
  {
   "cell_type": "code",
   "execution_count": null,
   "metadata": {},
   "outputs": [],
   "source": []
  }
 ],
 "metadata": {
  "kernelspec": {
   "display_name": "Pangeo 2020-12",
   "language": "python",
   "name": "pangeo_202012"
  },
  "language_info": {
   "codemirror_mode": {
    "name": "ipython",
    "version": 3
   },
   "file_extension": ".py",
   "mimetype": "text/x-python",
   "name": "python",
   "nbconvert_exporter": "python",
   "pygments_lexer": "ipython3",
   "version": "3.8.6"
  }
 },
 "nbformat": 4,
 "nbformat_minor": 4
}
