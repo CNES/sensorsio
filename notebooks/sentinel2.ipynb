{
 "cells": [
  {
   "cell_type": "code",
   "execution_count": 1,
   "metadata": {
    "jupyter": {
     "source_hidden": true
    }
   },
   "outputs": [],
   "source": [
    "# Trick to import local code:\n",
    "import sys\n",
    "sys.path = ['/home/mp/michelj/src/sensorsio/src'] + sys.path"
   ]
  },
  {
   "cell_type": "code",
   "execution_count": 2,
   "metadata": {},
   "outputs": [],
   "source": [
    "import rasterio as rio\n",
    "import numpy as np\n",
    "from matplotlib import pyplot\n",
    "from sensorsio import sentinel2, utils"
   ]
  },
  {
   "cell_type": "markdown",
   "metadata": {},
   "source": [
    "# Creating a dataset"
   ]
  },
  {
   "cell_type": "markdown",
   "metadata": {},
   "source": [
    "Constructor of ```sentinel2.Sentinel2``` class reads the path to the ***Sentinel2 L2A*** product:"
   ]
  },
  {
   "cell_type": "code",
   "execution_count": 3,
   "metadata": {},
   "outputs": [],
   "source": [
    "dataset = sentinel2.Sentinel2('/datalake/S2-L2A-THEIA/31TDH/2019/05/31/SENTINEL2B_20190531-105916-927_L2A_T31TDH_C_V2-2/')"
   ]
  },
  {
   "cell_type": "markdown",
   "metadata": {},
   "source": [
    "Printing the returned objects gives basic information on the product:"
   ]
  },
  {
   "cell_type": "code",
   "execution_count": 4,
   "metadata": {},
   "outputs": [
    {
     "name": "stdout",
     "output_type": "stream",
     "text": [
      "SENTINEL2B, 2019-05-31 00:00:00, 31TDH\n"
     ]
    }
   ],
   "source": [
    "print(dataset)"
   ]
  },
  {
   "cell_type": "markdown",
   "metadata": {},
   "source": [
    "Among the object attributes, one can find information on acquisition date as a ```datetime.datetime``` object, acquisition year, and day of year:"
   ]
  },
  {
   "cell_type": "code",
   "execution_count": 5,
   "metadata": {},
   "outputs": [
    {
     "name": "stdout",
     "output_type": "stream",
     "text": [
      "date: 2019-05-31 00:00:00, year: 2019, day of year: 151\n"
     ]
    }
   ],
   "source": [
    "print(f\"date: {dataset.date}, year: {dataset.year}, day of year: {dataset.day_of_year}\")"
   ]
  },
  {
   "cell_type": "markdown",
   "metadata": {},
   "source": [
    "One can also read the satellite id, the MGRS tile id and the corresponding coordinate reference system:"
   ]
  },
  {
   "cell_type": "code",
   "execution_count": 6,
   "metadata": {},
   "outputs": [
    {
     "name": "stdout",
     "output_type": "stream",
     "text": [
      "Satellite: SENTINEL2B, MGRS tile: dataset.tile, CRS: EPSG:32631\n"
     ]
    }
   ],
   "source": [
    "print(f\"Satellite: {dataset.satellite.value}, MGRS tile: dataset.tile, CRS: {dataset.crs}\")"
   ]
  },
  {
   "cell_type": "markdown",
   "metadata": {},
   "source": [
    "Last, the object also contains the geographic bounds expressed in the given CRS."
   ]
  },
  {
   "cell_type": "code",
   "execution_count": 7,
   "metadata": {},
   "outputs": [
    {
     "name": "stdout",
     "output_type": "stream",
     "text": [
      "Product bounds: BoundingBox(left=399960.0, bottom=4690200.0, right=509760.0, top=4800000.0)\n"
     ]
    }
   ],
   "source": [
    "print(f\"Product bounds: {dataset.bounds}\")"
   ]
  },
  {
   "cell_type": "markdown",
   "metadata": {},
   "source": [
    "# Basic reading"
   ]
  },
  {
   "cell_type": "markdown",
   "metadata": {},
   "source": [
    "## Reading to numpy"
   ]
  },
  {
   "cell_type": "markdown",
   "metadata": {},
   "source": [
    "### Selecting bands"
   ]
  },
  {
   "cell_type": "markdown",
   "metadata": {},
   "source": [
    "```sentinel2.Sentinel2.GROUP_10M``` is a convenient variable to select all 10m bands:"
   ]
  },
  {
   "cell_type": "code",
   "execution_count": 8,
   "metadata": {},
   "outputs": [
    {
     "data": {
      "text/plain": [
       "[<Band.B2: 'B2'>, <Band.B3: 'B3'>, <Band.B4: 'B4'>, <Band.B8: 'B8'>]"
      ]
     },
     "execution_count": 8,
     "metadata": {},
     "output_type": "execute_result"
    }
   ],
   "source": [
    "sentinel2.Sentinel2.GROUP_10M"
   ]
  },
  {
   "cell_type": "markdown",
   "metadata": {},
   "source": [
    "In a similar way, ```sentinel2.Sentinel2.GROUP_20M``` and ```sentinel2.Sentinel2.GROUP_60M``` exist:"
   ]
  },
  {
   "cell_type": "code",
   "execution_count": 9,
   "metadata": {},
   "outputs": [
    {
     "data": {
      "text/plain": [
       "[<Band.B5: 'B5'>,\n",
       " <Band.B6: 'B6'>,\n",
       " <Band.B7: 'B7'>,\n",
       " <Band.B8A: 'B8A'>,\n",
       " <Band.B11: 'B11'>,\n",
       " <Band.B12: 'B12'>]"
      ]
     },
     "execution_count": 9,
     "metadata": {},
     "output_type": "execute_result"
    }
   ],
   "source": [
    "sentinel2.Sentinel2.GROUP_20M"
   ]
  },
  {
   "cell_type": "code",
   "execution_count": 10,
   "metadata": {},
   "outputs": [
    {
     "data": {
      "text/plain": [
       "[<Band.B9: 'B9'>, <Band.B10: 'B10'>]"
      ]
     },
     "execution_count": 10,
     "metadata": {},
     "output_type": "execute_result"
    }
   ],
   "source": [
    "sentinel2.Sentinel2.GROUP_60M"
   ]
  },
  {
   "cell_type": "markdown",
   "metadata": {},
   "source": [
    "One can of course make her own selection of bands:"
   ]
  },
  {
   "cell_type": "code",
   "execution_count": 11,
   "metadata": {},
   "outputs": [],
   "source": [
    "my_bands = [sentinel2.Sentinel2.B2, sentinel2.Sentinel2.B8A]"
   ]
  },
  {
   "cell_type": "markdown",
   "metadata": {},
   "source": [
    "### A first read"
   ]
  },
  {
   "cell_type": "markdown",
   "metadata": {},
   "source": [
    "In the following we will use the ```sentinel2.Sentinel2.GROUP_10M``` to read all 10m bands to a numpy array:"
   ]
  },
  {
   "cell_type": "code",
   "execution_count": 12,
   "metadata": {},
   "outputs": [],
   "source": [
    "bands, masks, xcoords, ycoords, crs = dataset.read_as_numpy(sentinel2.Sentinel2.GROUP_10M)"
   ]
  },
  {
   "cell_type": "markdown",
   "metadata": {},
   "source": [
    "The first returned value is a ```numpy.ndarray``` with shape ```[bands, height, width]``` containing pixels reflectances:"
   ]
  },
  {
   "cell_type": "code",
   "execution_count": 13,
   "metadata": {},
   "outputs": [
    {
     "data": {
      "text/plain": [
       "(4, 10980, 10980)"
      ]
     },
     "execution_count": 13,
     "metadata": {},
     "output_type": "execute_result"
    }
   ],
   "source": [
    "bands.shape"
   ]
  },
  {
   "cell_type": "markdown",
   "metadata": {},
   "source": [
    "The second returned value is a ```numpy.ndarray``` with shape ```[masks, height, width]``` containing masks values (by default, the 4 masks are read):"
   ]
  },
  {
   "cell_type": "code",
   "execution_count": 14,
   "metadata": {},
   "outputs": [
    {
     "data": {
      "text/plain": [
       "(4, 10980, 10980)"
      ]
     },
     "execution_count": 14,
     "metadata": {},
     "output_type": "execute_result"
    }
   ],
   "source": [
    "masks.shape"
   ]
  },
  {
   "cell_type": "markdown",
   "metadata": {},
   "source": [
    "3rd and 4th returned values are the row and col coordinates expressed in the given crs:"
   ]
  },
  {
   "cell_type": "code",
   "execution_count": 15,
   "metadata": {},
   "outputs": [
    {
     "data": {
      "text/plain": [
       "(array([399960., 399970., 399980., ..., 509730., 509740., 509750.]),\n",
       " array([4800000., 4799990., 4799980., ..., 4690230., 4690220., 4690210.]))"
      ]
     },
     "execution_count": 15,
     "metadata": {},
     "output_type": "execute_result"
    }
   ],
   "source": [
    "xcoords, ycoords"
   ]
  },
  {
   "cell_type": "markdown",
   "metadata": {},
   "source": [
    "Last returned value is the crs as a string:"
   ]
  },
  {
   "cell_type": "code",
   "execution_count": 16,
   "metadata": {},
   "outputs": [
    {
     "data": {
      "text/plain": [
       "CRS.from_epsg(32631)"
      ]
     },
     "execution_count": 16,
     "metadata": {},
     "output_type": "execute_result"
    }
   ],
   "source": [
    "crs"
   ]
  },
  {
   "cell_type": "markdown",
   "metadata": {},
   "source": [
    "By default, pixels values are scaled to $[0,1]$, and missing values are set to ```numpy.nan``` (hence the use of ```nanmin``` and ```nanmax``` in the following):"
   ]
  },
  {
   "cell_type": "code",
   "execution_count": 17,
   "metadata": {},
   "outputs": [
    {
     "data": {
      "text/plain": [
       "(array([0., 0., 0., 0.], dtype=float32),\n",
       " array([1.4091, 1.3115, 1.246 , 1.1927], dtype=float32))"
      ]
     },
     "execution_count": 17,
     "metadata": {},
     "output_type": "execute_result"
    }
   ],
   "source": [
    "np.nanmin(bands, axis=(1,2)), np.nanmax(bands, axis=(1,2))"
   ]
  },
  {
   "cell_type": "markdown",
   "metadata": {},
   "source": [
    "### Displaying the image"
   ]
  },
  {
   "cell_type": "markdown",
   "metadata": {},
   "source": [
    "The ```utils``` module provides a convenient function that will prepare the array for display with ```matplotlib```. The ```bands ``` argument indicates which slice of the first dimension to map to the red, green and blue channels. ```dmin``` and ```dmax``` arguments allows to select the displayed range for each band. "
   ]
  },
  {
   "cell_type": "code",
   "execution_count": 18,
   "metadata": {},
   "outputs": [
    {
     "data": {
      "text/plain": [
       "<matplotlib.image.AxesImage at 0x2b2b8e4b5cd0>"
      ]
     },
     "execution_count": 18,
     "metadata": {},
     "output_type": "execute_result"
    },
    {
     "data": {
      "image/png": "[encoded data removed]",
      "text/plain": [
       "<Figure size 432x288 with 1 Axes>"
      ]
     },
     "metadata": {
      "needs_background": "light"
     },
     "output_type": "display_data"
    }
   ],
   "source": [
    "arr_rgb, dmin, dmax = utils.rgb_render(bands, bands=[2,1,0], \n",
    "                                 dmin=np.array([0., 0., 0.]), \n",
    "                                 dmax=np.array([0.2,0.2,0.2]))\n",
    "pyplot.imshow(arr_rgb)"
   ]
  },
  {
   "cell_type": "markdown",
   "metadata": {},
   "source": [
    "## Reading to xarray Dataset"
   ]
  },
  {
   "cell_type": "markdown",
   "metadata": {},
   "source": [
    "The ```xarray``` library provides a nice decoration of ```numpy``` arrays for even more abstraction:"
   ]
  },
  {
   "cell_type": "code",
   "execution_count": 19,
   "metadata": {},
   "outputs": [],
   "source": [
    "xrds = dataset.read_as_xarray(sentinel2.Sentinel2.GROUP_10M)"
   ]
  },
  {
   "cell_type": "code",
   "execution_count": 20,
   "metadata": {},
   "outputs": [
    {
     "name": "stdout",
     "output_type": "stream",
     "text": [
      "<xarray.Dataset>\n",
      "Dimensions:  (t: 1, x: 10980, y: 10980)\n",
      "Coordinates:\n",
      "  * t        (t) datetime64[ns] 2019-05-31\n",
      "  * x        (x) float64 4e+05 4e+05 4e+05 ... 5.097e+05 5.097e+05 5.098e+05\n",
      "  * y        (y) float64 4.8e+06 4.8e+06 4.8e+06 ... 4.69e+06 4.69e+06 4.69e+06\n",
      "Data variables:\n",
      "    B2       (t, y, x) float32 0.0364 0.0378 0.0406 0.0393 ... nan nan nan nan\n",
      "    SAT      (t, y, x) uint8 0 0 0 0 0 0 0 0 0 0 0 0 ... 0 0 0 0 0 0 0 0 0 0 0 0\n",
      "    CLM      (t, y, x) uint8 0 0 0 0 0 0 0 0 0 0 0 0 ... 0 0 0 0 0 0 0 0 0 0 0 0\n",
      "    EDG      (t, y, x) uint8 0 0 0 0 0 0 0 0 0 0 0 0 ... 1 1 1 1 1 1 1 1 1 1 1 1\n",
      "    MG2      (t, y, x) uint8 0 0 0 0 0 0 0 0 0 0 0 0 ... 0 0 0 0 0 0 0 0 0 0 0 0\n",
      "    B3       (t, y, x) float32 0.0652 0.068 0.0742 0.0752 ... nan nan nan nan\n",
      "    B4       (t, y, x) float32 0.063 0.0712 0.0735 0.0728 ... nan nan nan nan\n",
      "    B8       (t, y, x) float32 0.2343 0.2349 0.2369 0.2456 ... nan nan nan nan\n",
      "Attributes:\n",
      "    tile:     31TDH\n",
      "    type:     FRE\n",
      "    crs:      EPSG:32631\n"
     ]
    }
   ],
   "source": [
    "print(xrds)"
   ]
  },
  {
   "cell_type": "markdown",
   "metadata": {},
   "source": [
    "The created datasets contains several variables, with the requested bands and masks:"
   ]
  },
  {
   "cell_type": "code",
   "execution_count": 21,
   "metadata": {},
   "outputs": [
    {
     "data": {
      "text/plain": [
       "Data variables:\n",
       "    B2       (t, y, x) float32 0.0364 0.0378 0.0406 0.0393 ... nan nan nan nan\n",
       "    SAT      (t, y, x) uint8 0 0 0 0 0 0 0 0 0 0 0 0 ... 0 0 0 0 0 0 0 0 0 0 0 0\n",
       "    CLM      (t, y, x) uint8 0 0 0 0 0 0 0 0 0 0 0 0 ... 0 0 0 0 0 0 0 0 0 0 0 0\n",
       "    EDG      (t, y, x) uint8 0 0 0 0 0 0 0 0 0 0 0 0 ... 1 1 1 1 1 1 1 1 1 1 1 1\n",
       "    MG2      (t, y, x) uint8 0 0 0 0 0 0 0 0 0 0 0 0 ... 0 0 0 0 0 0 0 0 0 0 0 0\n",
       "    B3       (t, y, x) float32 0.0652 0.068 0.0742 0.0752 ... nan nan nan nan\n",
       "    B4       (t, y, x) float32 0.063 0.0712 0.0735 0.0728 ... nan nan nan nan\n",
       "    B8       (t, y, x) float32 0.2343 0.2349 0.2369 0.2456 ... nan nan nan nan"
      ]
     },
     "execution_count": 21,
     "metadata": {},
     "output_type": "execute_result"
    }
   ],
   "source": [
    "xrds.data_vars"
   ]
  },
  {
   "cell_type": "markdown",
   "metadata": {},
   "source": [
    "Those variables are indexed with 3 sets of coordinates: x coordinates, y coordinates and time coordinates:"
   ]
  },
  {
   "cell_type": "code",
   "execution_count": 22,
   "metadata": {},
   "outputs": [
    {
     "data": {
      "text/plain": [
       "Coordinates:\n",
       "  * t        (t) datetime64[ns] 2019-05-31\n",
       "  * x        (x) float64 4e+05 4e+05 4e+05 ... 5.097e+05 5.097e+05 5.098e+05\n",
       "  * y        (y) float64 4.8e+06 4.8e+06 4.8e+06 ... 4.69e+06 4.69e+06 4.69e+06"
      ]
     },
     "execution_count": 22,
     "metadata": {},
     "output_type": "execute_result"
    }
   ],
   "source": [
    "xrds.coords"
   ]
  },
  {
   "cell_type": "markdown",
   "metadata": {},
   "source": [
    "The time coordinate has only a single value (since a dataset represents one acquisition date) but it would be very easy to stack several datasets together along the time dimension."
   ]
  },
  {
   "cell_type": "markdown",
   "metadata": {},
   "source": [
    "It is rather easy to use ```xarray``` to derive new variables:"
   ]
  },
  {
   "cell_type": "code",
   "execution_count": 23,
   "metadata": {},
   "outputs": [
    {
     "name": "stdout",
     "output_type": "stream",
     "text": [
      "<xarray.DataArray (t: 1, y: 10980, x: 10980)>\n",
      "array([[[0.57618374, 0.5347908 , 0.5264158 , ...,        nan,\n",
      "                nan,        nan],\n",
      "        [0.56438255, 0.56147635, 0.58286315, ...,        nan,\n",
      "                nan,        nan],\n",
      "        [0.541565  , 0.5470487 , 0.5428552 , ...,        nan,\n",
      "                nan,        nan],\n",
      "        ...,\n",
      "        [0.84214514, 0.91237706, 0.90931153, ...,        nan,\n",
      "                nan,        nan],\n",
      "        [0.83168554, 0.89667445, 0.90866023, ...,        nan,\n",
      "                nan,        nan],\n",
      "        [0.6835636 , 0.87166893, 0.90923077, ...,        nan,\n",
      "                nan,        nan]]], dtype=float32)\n",
      "Coordinates:\n",
      "  * t        (t) datetime64[ns] 2019-05-31\n",
      "  * x        (x) float64 4e+05 4e+05 4e+05 ... 5.097e+05 5.097e+05 5.098e+05\n",
      "  * y        (y) float64 4.8e+06 4.8e+06 4.8e+06 ... 4.69e+06 4.69e+06 4.69e+06\n"
     ]
    }
   ],
   "source": [
    "ndvi = (xrds.B8-xrds.B4)/(1e-6 + xrds.B8 + xrds.B4)\n",
    "print(ndvi)"
   ]
  },
  {
   "cell_type": "markdown",
   "metadata": {},
   "source": [
    "Of course, one can always access the underlying ```numpy``` arrays:"
   ]
  },
  {
   "cell_type": "code",
   "execution_count": 24,
   "metadata": {},
   "outputs": [
    {
     "data": {
      "text/plain": [
       "array([[[0.57618374, 0.5347908 , 0.5264158 , ...,        nan,\n",
       "                nan,        nan],\n",
       "        [0.56438255, 0.56147635, 0.58286315, ...,        nan,\n",
       "                nan,        nan],\n",
       "        [0.541565  , 0.5470487 , 0.5428552 , ...,        nan,\n",
       "                nan,        nan],\n",
       "        ...,\n",
       "        [0.84214514, 0.91237706, 0.90931153, ...,        nan,\n",
       "                nan,        nan],\n",
       "        [0.83168554, 0.89667445, 0.90866023, ...,        nan,\n",
       "                nan,        nan],\n",
       "        [0.6835636 , 0.87166893, 0.90923077, ...,        nan,\n",
       "                nan,        nan]]], dtype=float32)"
      ]
     },
     "execution_count": 24,
     "metadata": {},
     "output_type": "execute_result"
    }
   ],
   "source": [
    "ndvi.values"
   ]
  },
  {
   "cell_type": "markdown",
   "metadata": {},
   "source": [
    "# Advanced read"
   ]
  },
  {
   "cell_type": "markdown",
   "metadata": {},
   "source": [
    "In this section, examples will be demonstrated with ```read_as_xarray(...)``` but one can achieve similar operations with ```read_as_numpy(...)```."
   ]
  },
  {
   "cell_type": "markdown",
   "metadata": {},
   "source": [
    "## Reading a spatial subset"
   ]
  },
  {
   "cell_type": "markdown",
   "metadata": {},
   "source": [
    "The ```region``` argument allows to read a spatial subset of the data by providing ```(startx, starty, endx, endy)``` integer pixel coordinates tuple. Beware that those coordinates relate to the coordinates in the array after resampling or reprojection, and not input image coordinates."
   ]
  },
  {
   "cell_type": "code",
   "execution_count": 25,
   "metadata": {},
   "outputs": [
    {
     "name": "stdout",
     "output_type": "stream",
     "text": [
      "<xarray.Dataset>\n",
      "Dimensions:  (t: 1, x: 200, y: 200)\n",
      "Coordinates:\n",
      "  * t        (t) datetime64[ns] 2019-05-31\n",
      "  * x        (x) float64 4.1e+05 4.1e+05 4.1e+05 ... 4.119e+05 4.12e+05\n",
      "  * y        (y) float64 4.79e+06 4.79e+06 4.79e+06 ... 4.788e+06 4.788e+06\n",
      "Data variables:\n",
      "    B2       (t, y, x) float32 0.0505 0.0487 0.0471 ... 0.0474 0.048 0.0456\n",
      "    SAT      (t, y, x) uint8 0 0 0 0 0 0 0 0 0 0 0 0 ... 0 0 0 0 0 0 0 0 0 0 0 0\n",
      "    CLM      (t, y, x) uint8 0 0 0 0 0 0 0 0 0 0 0 0 ... 0 0 0 0 0 0 0 0 0 0 0 0\n",
      "    EDG      (t, y, x) uint8 0 0 0 0 0 0 0 0 0 0 0 0 ... 0 0 0 0 0 0 0 0 0 0 0 0\n",
      "    MG2      (t, y, x) uint8 0 0 0 0 0 0 0 0 0 0 0 0 ... 0 0 0 0 0 0 0 0 0 0 0 0\n",
      "    B3       (t, y, x) float32 0.1159 0.1137 0.1127 ... 0.0883 0.0867 0.0828\n",
      "    B4       (t, y, x) float32 0.0831 0.083 0.0794 ... 0.0792 0.0805 0.0753\n",
      "    B8       (t, y, x) float32 0.3735 0.3815 0.3954 ... 0.3243 0.3218 0.3107\n",
      "Attributes:\n",
      "    tile:     31TDH\n",
      "    type:     FRE\n",
      "    crs:      EPSG:32631\n"
     ]
    }
   ],
   "source": [
    "print(dataset.read_as_xarray(sentinel2.Sentinel2.GROUP_10M, \n",
    "                             region=(1000,1000,1200,1200)))"
   ]
  },
  {
   "cell_type": "markdown",
   "metadata": {},
   "source": [
    "The ```region``` argument also accepts a ```rio.coords.BoundingBox``` object representing a geo-referenced bounding-box in the given ```crs``` (default to input image ```crs```):"
   ]
  },
  {
   "cell_type": "code",
   "execution_count": 26,
   "metadata": {},
   "outputs": [],
   "source": [
    "georoi = rio.coords.BoundingBox(399960.0, 4690200.0, 401960.0, 4692200.0) # left, bottom, right, top"
   ]
  },
  {
   "cell_type": "code",
   "execution_count": 27,
   "metadata": {},
   "outputs": [
    {
     "name": "stdout",
     "output_type": "stream",
     "text": [
      "<xarray.Dataset>\n",
      "Dimensions:  (t: 1, x: 200, y: 200)\n",
      "Coordinates:\n",
      "  * t        (t) datetime64[ns] 2019-05-31\n",
      "  * x        (x) float64 4e+05 4e+05 4e+05 ... 4.019e+05 4.019e+05 4.02e+05\n",
      "  * y        (y) float64 4.8e+06 4.8e+06 4.8e+06 ... 4.798e+06 4.798e+06\n",
      "Data variables:\n",
      "    B2       (t, y, x) float32 0.0364 0.0378 0.0406 ... 0.035 0.033 0.0336\n",
      "    SAT      (t, y, x) uint8 0 0 0 0 0 0 0 0 0 0 0 0 ... 0 0 0 0 0 0 0 0 0 0 0 0\n",
      "    CLM      (t, y, x) uint8 0 0 0 0 0 0 0 0 0 0 0 0 ... 0 0 0 0 0 0 0 0 0 0 0 0\n",
      "    EDG      (t, y, x) uint8 0 0 0 0 0 0 0 0 0 0 0 0 ... 0 0 0 0 0 0 0 0 0 0 0 0\n",
      "    MG2      (t, y, x) uint8 0 0 0 0 0 0 0 0 0 0 0 0 ... 0 0 0 0 0 0 0 0 0 0 0 0\n",
      "    B3       (t, y, x) float32 0.0652 0.068 0.0742 ... 0.0618 0.0622 0.0646\n",
      "    B4       (t, y, x) float32 0.063 0.0712 0.0735 ... 0.0517 0.0507 0.0528\n",
      "    B8       (t, y, x) float32 0.2343 0.2349 0.2369 ... 0.2515 0.2528 0.2599\n",
      "Attributes:\n",
      "    tile:     31TDH\n",
      "    type:     FRE\n",
      "    crs:      EPSG:32631\n"
     ]
    }
   ],
   "source": [
    "print(dataset.read_as_xarray(sentinel2.Sentinel2.GROUP_10M,\n",
    "                             region=georoi))"
   ]
  },
  {
   "cell_type": "markdown",
   "metadata": {},
   "source": [
    "## Read bands with different resolutions, and changing resolution"
   ]
  },
  {
   "cell_type": "markdown",
   "metadata": {},
   "source": [
    "All bands are resampled to the target resolution set by the ```resolution``` argument, which defaults to 10m. The interpolation algorithm can be set using the ```algorithm``` keyword and selected among the algorithm available in gdal/rasterio: https://rasterio.readthedocs.io/en/latest/api/rasterio.enums.html#rasterio.enums.Resampling (default is ```rio.enums.Resampling.cubic```)."
   ]
  },
  {
   "cell_type": "code",
   "execution_count": 28,
   "metadata": {},
   "outputs": [
    {
     "name": "stdout",
     "output_type": "stream",
     "text": [
      "<xarray.Dataset>\n",
      "Dimensions:  (t: 1, x: 200, y: 200)\n",
      "Coordinates:\n",
      "  * t        (t) datetime64[ns] 2019-05-31\n",
      "  * x        (x) float64 4e+05 4e+05 4e+05 ... 4.019e+05 4.019e+05 4.02e+05\n",
      "  * y        (y) float64 4.8e+06 4.8e+06 4.8e+06 ... 4.798e+06 4.798e+06\n",
      "Data variables:\n",
      "    B2       (t, y, x) float32 0.0364 0.0378 0.0406 ... 0.035 0.033 0.0336\n",
      "    SAT      (t, y, x) uint8 0 0 0 0 0 0 0 0 0 0 0 0 ... 0 0 0 0 0 0 0 0 0 0 0 0\n",
      "    CLM      (t, y, x) uint8 0 0 0 0 0 0 0 0 0 0 0 0 ... 0 0 0 0 0 0 0 0 0 0 0 0\n",
      "    EDG      (t, y, x) uint8 0 0 0 0 0 0 0 0 0 0 0 0 ... 0 0 0 0 0 0 0 0 0 0 0 0\n",
      "    MG2      (t, y, x) uint8 0 0 0 0 0 0 0 0 0 0 0 0 ... 0 0 0 0 0 0 0 0 0 0 0 0\n",
      "    B6       (t, y, x) float32 0.1903 0.194 0.2013 ... 0.2076 0.2096 0.2069\n",
      "    B11      (t, y, x) float32 0.1748 0.1757 0.1774 ... 0.1793 0.1804 0.1814\n",
      "Attributes:\n",
      "    tile:     31TDH\n",
      "    type:     FRE\n",
      "    crs:      EPSG:32631\n"
     ]
    }
   ],
   "source": [
    "print(dataset.read_as_xarray([sentinel2.Sentinel2.B2, sentinel2.Sentinel2.B6, sentinel2.Sentinel2.B11], # A 10m, a 20m and a 60m bands \n",
    "                       resolution=10, # The target resolution\n",
    "                       region=georoi,\n",
    "                       algorithm=rio.enums.Resampling.bilinear))"
   ]
  },
  {
   "cell_type": "markdown",
   "metadata": {},
   "source": [
    "One can of course set a lower target resolution and change the interpolation algorithm accordingly:"
   ]
  },
  {
   "cell_type": "code",
   "execution_count": 29,
   "metadata": {},
   "outputs": [
    {
     "name": "stdout",
     "output_type": "stream",
     "text": [
      "<xarray.Dataset>\n",
      "Dimensions:  (t: 1, x: 33, y: 33)\n",
      "Coordinates:\n",
      "  * t        (t) datetime64[ns] 2019-05-31\n",
      "  * x        (x) float64 4e+05 4e+05 4.001e+05 ... 4.018e+05 4.018e+05 4.019e+05\n",
      "  * y        (y) float64 4.8e+06 4.8e+06 4.8e+06 ... 4.798e+06 4.798e+06\n",
      "Data variables:\n",
      "    B2       (t, y, x) float32 0.0381 0.0402 0.0631 ... 0.0476 0.0699 0.0426\n",
      "    SAT      (t, y, x) uint8 0 0 0 0 0 0 0 0 0 0 0 0 ... 0 0 0 0 0 0 0 0 0 0 0 0\n",
      "    CLM      (t, y, x) uint8 0 0 0 0 0 0 0 0 0 0 0 0 ... 0 0 0 0 0 0 0 0 0 0 0 0\n",
      "    EDG      (t, y, x) uint8 0 0 0 0 0 0 0 0 0 0 0 0 ... 0 0 0 0 0 0 0 0 0 0 0 0\n",
      "    MG2      (t, y, x) uint8 0 0 0 0 0 0 0 0 0 0 0 0 ... 0 0 0 0 0 0 0 0 0 0 0 0\n",
      "    B6       (t, y, x) float32 0.1962 0.2103 0.2402 ... 0.2371 0.1954 0.2106\n",
      "    B11      (t, y, x) float32 0.1748 0.1628 0.2507 ... 0.2117 0.2083 0.1867\n",
      "Attributes:\n",
      "    tile:     31TDH\n",
      "    type:     FRE\n",
      "    crs:      EPSG:32631\n"
     ]
    }
   ],
   "source": [
    "print(dataset.read_as_xarray([sentinel2.Sentinel2.B2, sentinel2.Sentinel2.B6, sentinel2.Sentinel2.B11], # A 10m, a 20m and a 60m bands \n",
    "                             resolution=60, # The target resolution\n",
    "                             region=georoi,\n",
    "                             algorithm=rio.enums.Resampling.average))"
   ]
  },
  {
   "cell_type": "markdown",
   "metadata": {},
   "source": [
    "## Changing projection and sampling grid"
   ]
  },
  {
   "cell_type": "markdown",
   "metadata": {},
   "source": [
    "The ```crs``` argument allows to resample the data into a different Coordinates Reference System  upon reading:"
   ]
  },
  {
   "cell_type": "code",
   "execution_count": 30,
   "metadata": {},
   "outputs": [
    {
     "name": "stdout",
     "output_type": "stream",
     "text": [
      "<xarray.Dataset>\n",
      "Dimensions:  (t: 1, x: 11001, y: 11000)\n",
      "Coordinates:\n",
      "  * t        (t) datetime64[ns] 2019-05-31\n",
      "  * x        (x) float64 4e+05 4e+05 4e+05 4e+05 ... 5.099e+05 5.1e+05 5.1e+05\n",
      "  * y        (y) float64 4.8e+06 4.8e+06 4.8e+06 ... 4.69e+06 4.69e+06 4.69e+06\n",
      "Data variables:\n",
      "    B2       (t, y, x) float32 nan nan nan nan nan nan ... nan nan nan nan nan\n",
      "    SAT      (t, y, x) uint8 240 240 240 240 240 240 240 240 ... 0 0 0 0 0 0 0 0\n",
      "    CLM      (t, y, x) uint8 240 240 240 240 240 240 240 240 ... 0 0 0 0 0 0 0 0\n",
      "    EDG      (t, y, x) uint8 240 240 240 240 240 240 240 240 ... 1 1 1 1 1 1 1 1\n",
      "    MG2      (t, y, x) uint8 240 240 240 240 240 240 240 240 ... 0 0 0 0 0 0 0 0\n",
      "    B3       (t, y, x) float32 nan nan nan nan nan nan ... nan nan nan nan nan\n",
      "    B4       (t, y, x) float32 nan nan nan nan nan nan ... nan nan nan nan nan\n",
      "    B8       (t, y, x) float32 nan nan nan nan nan nan ... nan nan nan nan nan\n",
      "Attributes:\n",
      "    tile:     31TDH\n",
      "    type:     FRE\n",
      "    crs:      EPSG:2154\n"
     ]
    }
   ],
   "source": [
    "print(dataset.read_as_xarray(sentinel2.Sentinel2.GROUP_10M, crs='epsg:2154')) # Lambert93 EPSG code"
   ]
  },
  {
   "cell_type": "markdown",
   "metadata": {},
   "source": [
    "One can also change the image sampling grid by overloading the geographic bounds:"
   ]
  },
  {
   "cell_type": "code",
   "execution_count": 31,
   "metadata": {},
   "outputs": [],
   "source": [
    "newbounds = rio.coords.BoundingBox(399965.0, 4690205.0, 401965.0, 4692205.0) # left, bottom, right, top"
   ]
  },
  {
   "cell_type": "code",
   "execution_count": 32,
   "metadata": {},
   "outputs": [
    {
     "name": "stdout",
     "output_type": "stream",
     "text": [
      "<xarray.Dataset>\n",
      "Dimensions:  (t: 1, x: 200, y: 200)\n",
      "Coordinates:\n",
      "  * t        (t) datetime64[ns] 2019-05-31\n",
      "  * x        (x) float64 4e+05 4e+05 4e+05 ... 4.019e+05 4.019e+05 4.02e+05\n",
      "  * y        (y) float64 4.8e+06 4.8e+06 4.8e+06 ... 4.798e+06 4.798e+06\n",
      "Data variables:\n",
      "    B2       (t, y, x) float32 0.0364 0.0315 0.0313 ... 0.0223 0.0232 0.0351\n",
      "    SAT      (t, y, x) uint8 0 0 0 0 0 0 0 0 0 0 0 0 ... 0 0 0 0 0 0 0 0 0 0 0 0\n",
      "    CLM      (t, y, x) uint8 0 0 0 0 0 0 0 0 0 0 0 0 ... 0 0 0 0 0 0 0 0 0 0 0 0\n",
      "    EDG      (t, y, x) uint8 0 0 0 0 0 0 0 0 0 0 0 0 ... 0 0 0 0 0 0 0 0 0 0 0 0\n",
      "    MG2      (t, y, x) uint8 0 0 0 0 0 0 0 0 0 0 0 0 ... 0 0 0 0 0 0 0 0 0 0 0 0\n",
      "    B3       (t, y, x) float32 0.0537 0.0516 0.0537 ... 0.0492 0.0496 0.0613\n",
      "    B4       (t, y, x) float32 0.0552 0.0467 0.0483 ... 0.0253 0.0273 0.0426\n",
      "    B8       (t, y, x) float32 0.1853 0.1946 0.2034 ... 0.4229 0.4259 0.4245\n",
      "Attributes:\n",
      "    tile:     31TDH\n",
      "    type:     FRE\n",
      "    crs:      EPSG:32631\n"
     ]
    }
   ],
   "source": [
    "print(dataset.read_as_xarray(sentinel2.Sentinel2.GROUP_10M, bounds=newbounds))"
   ]
  },
  {
   "cell_type": "markdown",
   "metadata": {},
   "source": [
    "***Note:*** This is different from using the region keyword which only does a subsetting. The ```bounds``` argument allows to modify the image sampling grid to match the grid of another image for instance."
   ]
  },
  {
   "cell_type": "markdown",
   "metadata": {},
   "source": [
    "## Using StackReg offsets"
   ]
  },
  {
   "cell_type": "markdown",
   "metadata": {},
   "source": [
    "```StackReg``` provides offsets to apply to the image origin in order to getter better multi-temporal registration. Those offsets can be passed to the ```Sentinel2``` dataset constructor:"
   ]
  },
  {
   "cell_type": "code",
   "execution_count": 33,
   "metadata": {},
   "outputs": [],
   "source": [
    "dataset = sentinel2.Sentinel2('/datalake/S2-L2A-THEIA/31TDH/2019/05/31/SENTINEL2B_20190531-105916-927_L2A_T31TDH_C_V2-2/', offsets=[-1.5, 2.5]) # x and y offsets in meters"
   ]
  }
 ],
 "metadata": {
  "kernelspec": {
   "display_name": "Pangeo 2020-12",
   "language": "python",
   "name": "pangeo_202012"
  },
  "language_info": {
   "codemirror_mode": {
    "name": "ipython",
    "version": 3
   },
   "file_extension": ".py",
   "mimetype": "text/x-python",
   "name": "python",
   "nbconvert_exporter": "python",
   "pygments_lexer": "ipython3",
   "version": "3.8.0"
  }
 },
 "nbformat": 4,
 "nbformat_minor": 4
}
